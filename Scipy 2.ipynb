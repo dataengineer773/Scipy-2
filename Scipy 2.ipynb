{
 "cells": [
  {
   "cell_type": "markdown",
   "id": "81ee4f64",
   "metadata": {},
   "source": [
    "# Scipy\n",
    "\n",
    "[Scipy](https://scipy.org/) is the fundamental package for scientific computing with Python.\n",
    "\n",
    "### Installation:\n",
    "\n",
    "<div class=\"alert alert-block alert-warning\">\n",
    "$ pip install scipy\n",
    "</div>"
   ]
  },
  {
   "cell_type": "code",
   "execution_count": 1,
   "id": "14e066e2",
   "metadata": {},
   "outputs": [
    {
     "name": "stdout",
     "output_type": "stream",
     "text": [
      "Requirement already satisfied: scipy in /Users/khamir/opt/miniconda3/lib/python3.9/site-packages (1.9.3)\r\n",
      "Requirement already satisfied: numpy<1.26.0,>=1.18.5 in /Users/khamir/opt/miniconda3/lib/python3.9/site-packages (from scipy) (1.23.5)\r\n"
     ]
    }
   ],
   "source": [
    "! pip install scipy"
   ]
  },
  {
   "cell_type": "code",
   "execution_count": 19,
   "id": "8cfe5651",
   "metadata": {},
   "outputs": [
    {
     "name": "stdout",
     "output_type": "stream",
     "text": [
      "Requirement already satisfied: matplotlib in /Users/khamir/opt/miniconda3/lib/python3.9/site-packages (3.6.2)\n",
      "Requirement already satisfied: pyparsing>=2.2.1 in /Users/khamir/opt/miniconda3/lib/python3.9/site-packages (from matplotlib) (3.0.9)\n",
      "Requirement already satisfied: contourpy>=1.0.1 in /Users/khamir/opt/miniconda3/lib/python3.9/site-packages (from matplotlib) (1.0.6)\n",
      "Requirement already satisfied: cycler>=0.10 in /Users/khamir/opt/miniconda3/lib/python3.9/site-packages (from matplotlib) (0.11.0)\n",
      "Requirement already satisfied: numpy>=1.19 in /Users/khamir/opt/miniconda3/lib/python3.9/site-packages (from matplotlib) (1.23.5)\n",
      "Requirement already satisfied: python-dateutil>=2.7 in /Users/khamir/opt/miniconda3/lib/python3.9/site-packages (from matplotlib) (2.8.2)\n",
      "Requirement already satisfied: pillow>=6.2.0 in /Users/khamir/opt/miniconda3/lib/python3.9/site-packages (from matplotlib) (9.3.0)\n",
      "Requirement already satisfied: kiwisolver>=1.0.1 in /Users/khamir/opt/miniconda3/lib/python3.9/site-packages (from matplotlib) (1.4.4)\n",
      "Requirement already satisfied: packaging>=20.0 in /Users/khamir/opt/miniconda3/lib/python3.9/site-packages (from matplotlib) (21.3)\n",
      "Requirement already satisfied: fonttools>=4.22.0 in /Users/khamir/opt/miniconda3/lib/python3.9/site-packages (from matplotlib) (4.38.0)\n",
      "Requirement already satisfied: six>=1.5 in /Users/khamir/opt/miniconda3/lib/python3.9/site-packages (from python-dateutil>=2.7->matplotlib) (1.16.0)\n"
     ]
    }
   ],
   "source": [
    "! pip install matplotlib"
   ]
  },
  {
   "cell_type": "markdown",
   "id": "15edf558",
   "metadata": {},
   "source": [
    "# Integration\n",
    "\n",
    "+ `quad`"
   ]
  },
  {
   "cell_type": "code",
   "execution_count": 2,
   "id": "05f33eae",
   "metadata": {},
   "outputs": [],
   "source": [
    "import numpy as np\n",
    "from scipy.integrate import quad"
   ]
  },
  {
   "cell_type": "code",
   "execution_count": 4,
   "id": "234338e0",
   "metadata": {},
   "outputs": [
    {
     "data": {
      "text/plain": [
       "(2.0, 2.220446049250313e-14)"
      ]
     },
     "execution_count": 4,
     "metadata": {},
     "output_type": "execute_result"
    }
   ],
   "source": [
    "quad(lambda x: np.sin(x), 0, np.pi)"
   ]
  },
  {
   "cell_type": "code",
   "execution_count": 6,
   "id": "3d2ecda7",
   "metadata": {},
   "outputs": [
    {
     "data": {
      "text/plain": [
       "2.0"
      ]
     },
     "execution_count": 6,
     "metadata": {},
     "output_type": "execute_result"
    }
   ],
   "source": [
    "np.cos(0) - np.cos(np.pi)"
   ]
  },
  {
   "cell_type": "code",
   "execution_count": 8,
   "id": "5977f6bf",
   "metadata": {},
   "outputs": [],
   "source": [
    "def f(x):\n",
    "    return 1/(1+x)"
   ]
  },
  {
   "cell_type": "code",
   "execution_count": 9,
   "id": "94cccb03",
   "metadata": {},
   "outputs": [
    {
     "name": "stderr",
     "output_type": "stream",
     "text": [
      "/var/folders/n_/r9yj_2js1418_tccsyp_f6s80000gn/T/ipykernel_40357/1909829541.py:1: IntegrationWarning: The maximum number of subdivisions (50) has been achieved.\n",
      "  If increasing the limit yields no improvement it is advised to analyze \n",
      "  the integrand in order to determine the difficulties.  If the position of a \n",
      "  local difficulty can be determined (singularity, discontinuity) one will \n",
      "  probably gain from splitting up the interval and calling the integrator \n",
      "  on the subranges.  Perhaps a special-purpose integrator should be used.\n",
      "  quad(f, a=0, b=np.inf)\n"
     ]
    },
    {
     "data": {
      "text/plain": [
       "(40.996012819169536, 8.156214940493658)"
      ]
     },
     "execution_count": 9,
     "metadata": {},
     "output_type": "execute_result"
    }
   ],
   "source": [
    "quad(f, a=0, b=np.inf)"
   ]
  },
  {
   "cell_type": "code",
   "execution_count": 10,
   "id": "8c5f512a",
   "metadata": {},
   "outputs": [],
   "source": [
    "def g(x):\n",
    "    return 1/(1+x)**2"
   ]
  },
  {
   "cell_type": "code",
   "execution_count": 11,
   "id": "55e776ee",
   "metadata": {},
   "outputs": [
    {
     "data": {
      "text/plain": [
       "(1.0, 1.1102230246251565e-14)"
      ]
     },
     "execution_count": 11,
     "metadata": {},
     "output_type": "execute_result"
    }
   ],
   "source": [
    "quad(g, a=0, b=np.inf)"
   ]
  },
  {
   "cell_type": "code",
   "execution_count": 12,
   "id": "24dde419",
   "metadata": {},
   "outputs": [],
   "source": [
    "def h(x, c1=1, c2=1):\n",
    "    return c1 / (c2 + x)**2"
   ]
  },
  {
   "cell_type": "code",
   "execution_count": 15,
   "id": "9ee117aa",
   "metadata": {},
   "outputs": [
    {
     "data": {
      "text/plain": [
       "(20.0, 2.6394890715405897e-09)"
      ]
     },
     "execution_count": 15,
     "metadata": {},
     "output_type": "execute_result"
    }
   ],
   "source": [
    "quad(h, a=0, b=np.inf, args=(2, 0.1))"
   ]
  },
  {
   "cell_type": "code",
   "execution_count": 16,
   "id": "78235461",
   "metadata": {},
   "outputs": [],
   "source": [
    "def o(x, alpha, beta):\n",
    "    return np.sin(alpha*x) + np.cos(beta*x)"
   ]
  },
  {
   "cell_type": "code",
   "execution_count": 18,
   "id": "71cb9846",
   "metadata": {},
   "outputs": [
    {
     "data": {
      "text/plain": [
       "(3.0018995503231777e-16, 6.304915998800248e-14)"
      ]
     },
     "execution_count": 18,
     "metadata": {},
     "output_type": "execute_result"
    }
   ],
   "source": [
    "quad(o, a=-np.pi, b=np.pi, args=(1, 1))"
   ]
  },
  {
   "cell_type": "markdown",
   "id": "d0a869e6",
   "metadata": {},
   "source": [
    "# Interpolation\n",
    "\n",
    "+ `interp1d`"
   ]
  },
  {
   "cell_type": "code",
   "execution_count": 21,
   "id": "b9948084",
   "metadata": {},
   "outputs": [],
   "source": [
    "import matplotlib.pyplot as plt"
   ]
  },
  {
   "cell_type": "code",
   "execution_count": 26,
   "id": "e0b9e42d",
   "metadata": {},
   "outputs": [],
   "source": [
    "x = np.linspace(0, 10, 1001)\n",
    "y = np.sin(np.sqrt(x))\n",
    "\n",
    "xx = np.linspace(0, 10, 11)\n",
    "yy = np.sin(np.sqrt(xx))"
   ]
  },
  {
   "cell_type": "code",
   "execution_count": 27,
   "id": "d4337fd6",
   "metadata": {},
   "outputs": [
    {
     "data": {
      "text/plain": [
       "<matplotlib.collections.PathCollection at 0x1626fceb0>"
      ]
     },
     "execution_count": 27,
     "metadata": {},
     "output_type": "execute_result"
    },
    {
     "data": {
      "image/png": "[encoded data removed]",
      "text/plain": [
       "<Figure size 640x480 with 1 Axes>"
      ]
     },
     "metadata": {},
     "output_type": "display_data"
    }
   ],
   "source": [
    "plt.plot(x, y);\n",
    "plt.scatter(xx, yy)"
   ]
  },
  {
   "cell_type": "code",
   "execution_count": 28,
   "id": "1329f27c",
   "metadata": {},
   "outputs": [],
   "source": [
    "from scipy.interpolate import interp1d"
   ]
  },
  {
   "cell_type": "code",
   "execution_count": 40,
   "id": "4d9ab664",
   "metadata": {},
   "outputs": [],
   "source": [
    "p_linear = interp1d(x=xx, y=yy, kind='linear')\n",
    "p_quadratic = interp1d(x=xx, y=yy, kind='quadratic')\n",
    "p_cubic = interp1d(x=xx, y=yy, kind='cubic')"
   ]
  },
  {
   "cell_type": "code",
   "execution_count": 42,
   "id": "d43c6ad8",
   "metadata": {},
   "outputs": [
    {
     "data": {
      "image/png": "[encoded data removed]",
      "text/plain": [
       "<Figure size 640x480 with 1 Axes>"
      ]
     },
     "metadata": {},
     "output_type": "display_data"
    }
   ],
   "source": [
    "plt.plot(x, y);\n",
    "plt.scatter(xx, yy)\n",
    "plt.plot(x, p_linear(x));\n",
    "plt.plot(x, p_quadratic(x));\n",
    "plt.plot(x, p_cubic(x));"
   ]
  },
  {
   "cell_type": "markdown",
   "id": "facdd06b",
   "metadata": {},
   "source": [
    "# Try yourself:\n",
    "\n",
    "please do an interpolation for the folowing fuction with 21, 31, 41, 51 points:\n",
    "\n",
    "$$f(x) = \\sqrt{\\sin(x)^2}, ~~~ x \\in [-2\\pi, 2\\pi]$$\n",
    "\n"
   ]
  },
  {
   "cell_type": "code",
   "execution_count": null,
   "id": "825f7781",
   "metadata": {},
   "outputs": [],
   "source": []
  },
  {
   "cell_type": "markdown",
   "id": "beb09688",
   "metadata": {},
   "source": [
    "# Optimization\n",
    "\n",
    "+ `minimize`"
   ]
  },
  {
   "cell_type": "code",
   "execution_count": 9,
   "id": "cd7c377c",
   "metadata": {},
   "outputs": [],
   "source": [
    "from scipy.optimize import minimize\n",
    "import numpy as np"
   ]
  },
  {
   "cell_type": "code",
   "execution_count": 2,
   "id": "f4d37747",
   "metadata": {},
   "outputs": [],
   "source": [
    "ans = minimize(lambda x: x**2 + 1, method='nelder-mead', x0=10)"
   ]
  },
  {
   "cell_type": "code",
   "execution_count": 5,
   "id": "bb8ef49d",
   "metadata": {},
   "outputs": [
    {
     "data": {
      "text/plain": [
       " final_simplex: (array([[ 0.00000000e+00],\n",
       "       [-6.10351562e-05]]), array([1., 1.]))\n",
       "           fun: 1.0\n",
       "       message: 'Optimization terminated successfully.'\n",
       "          nfev: 42\n",
       "           nit: 21\n",
       "        status: 0\n",
       "       success: True\n",
       "             x: array([0.])"
      ]
     },
     "execution_count": 5,
     "metadata": {},
     "output_type": "execute_result"
    }
   ],
   "source": [
    "ans"
   ]
  },
  {
   "cell_type": "code",
   "execution_count": 7,
   "id": "cda2d078",
   "metadata": {},
   "outputs": [
    {
     "data": {
      "text/plain": [
       "(array([0.]), 1.0)"
      ]
     },
     "execution_count": 7,
     "metadata": {},
     "output_type": "execute_result"
    }
   ],
   "source": [
    "ans.x, ans.fun"
   ]
  },
  {
   "cell_type": "code",
   "execution_count": 12,
   "id": "156728c5",
   "metadata": {},
   "outputs": [
    {
     "name": "stdout",
     "output_type": "stream",
     "text": [
      "Optimization terminated successfully.\n"
     ]
    }
   ],
   "source": [
    "# x = (x_1, x_2, x_3, x_4)\n",
    "# sum(x_i^2) + 1\n",
    "ans = minimize(lambda x: np.sum(x**2) + 1, method='nelder-mead', x0=np.array([10, 10, 10, 10]))\n",
    "print(ans.message)"
   ]
  },
  {
   "cell_type": "code",
   "execution_count": 13,
   "id": "2b24ca79",
   "metadata": {},
   "outputs": [
    {
     "data": {
      "text/plain": [
       " final_simplex: (array([[-2.65442237e-05,  1.12314782e-05, -1.51653776e-05,\n",
       "        -3.40479927e-05],\n",
       "       [-1.26976984e-05, -2.51974068e-05, -3.27384527e-05,\n",
       "         4.01693955e-05],\n",
       "       [ 1.85998478e-05,  2.91564123e-05, -3.66112408e-06,\n",
       "         5.04949456e-05],\n",
       "       [ 2.78281882e-05,  4.65382391e-05, -5.08230806e-05,\n",
       "        -1.87915205e-05],\n",
       "       [ 7.27091825e-05, -3.18847273e-05,  1.01832144e-05,\n",
       "         3.91206452e-05]]), array([1.        , 1.        , 1.        , 1.00000001, 1.00000001]))\n",
       "           fun: 1.0000000022199964\n",
       "       message: 'Optimization terminated successfully.'\n",
       "          nfev: 261\n",
       "           nit: 151\n",
       "        status: 0\n",
       "       success: True\n",
       "             x: array([-2.65442237e-05,  1.12314782e-05, -1.51653776e-05, -3.40479927e-05])"
      ]
     },
     "execution_count": 13,
     "metadata": {},
     "output_type": "execute_result"
    }
   ],
   "source": [
    "ans"
   ]
  },
  {
   "cell_type": "code",
   "execution_count": 14,
   "id": "419aa69e",
   "metadata": {},
   "outputs": [],
   "source": [
    "# (x + 2y - y)^2 + (2x + y - 5)^2"
   ]
  },
  {
   "cell_type": "code",
   "execution_count": 15,
   "id": "cbaba48f",
   "metadata": {},
   "outputs": [],
   "source": [
    "def f(x):\n",
    "    return (x[0] + 2*x[1] - 7)**2 + (2*x[0] + x[1] - 5)**2"
   ]
  },
  {
   "cell_type": "code",
   "execution_count": 17,
   "id": "4b5cd1d3",
   "metadata": {},
   "outputs": [
    {
     "name": "stdout",
     "output_type": "stream",
     "text": [
      "Optimization terminated successfully.\n",
      "[1.00000346 3.00001143] 1.029458242212379e-09\n"
     ]
    }
   ],
   "source": [
    "ans = minimize(f, method='nelder-mead', x0 = np.array([10, 10]))\n",
    "print(ans.message)\n",
    "print(ans.x, ans.fun)"
   ]
  },
  {
   "cell_type": "code",
   "execution_count": 18,
   "id": "32597681",
   "metadata": {},
   "outputs": [
    {
     "name": "stdout",
     "output_type": "stream",
     "text": [
      "Optimization terminated successfully.\n",
      "[1.00000346 3.00001143] 1.029458242212379e-09\n"
     ]
    }
   ],
   "source": [
    "ans = minimize(lambda x: (x[0] + 2*x[1] - 7)**2 + (2*x[0] + x[1] - 5)**2,\n",
    "               method = 'nelder-mead', \n",
    "               x0 = np.array([10, 10]))\n",
    "print(ans.message)\n",
    "print(ans.x, ans.fun)"
   ]
  },
  {
   "cell_type": "code",
   "execution_count": 20,
   "id": "5d020751",
   "metadata": {},
   "outputs": [
    {
     "name": "stdout",
     "output_type": "stream",
     "text": [
      "Optimization terminated successfully.\n",
      "[-2.09610107e-13 -2.09610107e-13 -2.09610107e-13 -2.09610107e-13] 1.0\n"
     ]
    }
   ],
   "source": [
    "ans = minimize(lambda x: np.sum(x**2) + 1,\n",
    "               method='CG',\n",
    "               x0=np.array([10, 10, 10, 10]),\n",
    "               jac=lambda x: 2*x)\n",
    "\n",
    "print(ans.message)\n",
    "print(ans.x, ans.fun)"
   ]
  },
  {
   "cell_type": "code",
   "execution_count": 21,
   "id": "f94bf8e8",
   "metadata": {},
   "outputs": [
    {
     "data": {
      "text/plain": [
       "     fun: 1.0\n",
       "     jac: array([-4.19220214e-13, -4.19220214e-13, -4.19220214e-13, -4.19220214e-13])\n",
       " message: 'Optimization terminated successfully.'\n",
       "    nfev: 4\n",
       "     nit: 1\n",
       "    njev: 4\n",
       "  status: 0\n",
       " success: True\n",
       "       x: array([-2.09610107e-13, -2.09610107e-13, -2.09610107e-13, -2.09610107e-13])"
      ]
     },
     "execution_count": 21,
     "metadata": {},
     "output_type": "execute_result"
    }
   ],
   "source": [
    "ans"
   ]
  },
  {
   "cell_type": "code",
   "execution_count": 22,
   "id": "f8046487",
   "metadata": {},
   "outputs": [],
   "source": [
    "def Beale(x):\n",
    "    return (1.5 - x[0] + x[0]*x[1])**2 + (2.25 - x[0] + x[0]*x[1]**2)**2 + (2.625 - x[0] + x[0]*x[1]**3)**2"
   ]
  },
  {
   "cell_type": "code",
   "execution_count": 25,
   "id": "464cafad",
   "metadata": {},
   "outputs": [
    {
     "name": "stdout",
     "output_type": "stream",
     "text": [
      "Maximum number of function evaluations has been exceeded.\n",
      "[-294.17999858    1.00335017] 0.4572805266572859\n"
     ]
    }
   ],
   "source": [
    "ans = minimize(Beale,\n",
    "               method='nelder-mead',\n",
    "               x0=np.array([-10, 10]))\n",
    "\n",
    "print(ans.message)\n",
    "print(ans.x, ans.fun)"
   ]
  },
  {
   "cell_type": "markdown",
   "id": "3d638c85",
   "metadata": {},
   "source": [
    "## Try yourself:\n",
    "\n",
    "https://en.wikipedia.org/wiki/Test_functions_for_optimization"
   ]
  }
 ],
 "metadata": {
  "kernelspec": {
   "display_name": "Python 3 (ipykernel)",
   "language": "python",
   "name": "python3"
  },
  "language_info": {
   "codemirror_mode": {
    "name": "ipython",
    "version": 3
   },
   "file_extension": ".py",
   "mimetype": "text/x-python",
   "name": "python",
   "nbconvert_exporter": "python",
   "pygments_lexer": "ipython3",
   "version": "3.9.12"
  }
 },
 "nbformat": 4,
 "nbformat_minor": 5
}
